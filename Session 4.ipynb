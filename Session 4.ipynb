{
 "cells": [
  {
   "cell_type": "code",
   "execution_count": 1,
   "id": "3d8582ff",
   "metadata": {},
   "outputs": [],
   "source": [
    "import pandas as pd\n",
    "\n",
    "from google.cloud import bigquery\n",
    "from google.oauth2 import service_account"
   ]
  },
  {
   "cell_type": "markdown",
   "id": "c602290e",
   "metadata": {},
   "source": [
    "# Chargement des données"
   ]
  },
  {
   "cell_type": "code",
   "execution_count": 2,
   "id": "05d4ea9e",
   "metadata": {},
   "outputs": [],
   "source": [
    "KEY_FILE_PATH = '/Users/blef/Downloads/moonlit-palace-338110-e5f03943d3d1.json'"
   ]
  },
  {
   "cell_type": "code",
   "execution_count": 3,
   "id": "dd1ff33c",
   "metadata": {},
   "outputs": [],
   "source": [
    "credentials = service_account.Credentials.from_service_account_file(\n",
    "    KEY_FILE_PATH, \n",
    "    scopes=[\"https://www.googleapis.com/auth/cloud-platform\"],\n",
    ")"
   ]
  },
  {
   "cell_type": "code",
   "execution_count": 28,
   "id": "dbd5d335",
   "metadata": {},
   "outputs": [],
   "source": [
    "query = \"\"\"\n",
    "    SELECT preusuel, sexe, sum(nombre) as total\n",
    "    FROM ml.prenoms\n",
    "    GROUP BY preusuel, sexe\n",
    "    ORDER BY total DESC\n",
    "\"\"\"\n",
    "\n",
    "df = pd.read_gbq(\n",
    "    query=query,\n",
    "    project_id=credentials.project_id,\n",
    "    credentials=credentials,\n",
    ")\n",
    "df = df[df[\"preusuel\"] != \"_PRENOMS_RARES\"]"
   ]
  },
  {
   "cell_type": "code",
   "execution_count": 29,
   "id": "e2283c48",
   "metadata": {},
   "outputs": [
    {
     "data": {
      "text/html": [
       "<div>\n",
       "<style scoped>\n",
       "    .dataframe tbody tr th:only-of-type {\n",
       "        vertical-align: middle;\n",
       "    }\n",
       "\n",
       "    .dataframe tbody tr th {\n",
       "        vertical-align: top;\n",
       "    }\n",
       "\n",
       "    .dataframe thead th {\n",
       "        text-align: right;\n",
       "    }\n",
       "</style>\n",
       "<table border=\"1\" class=\"dataframe\">\n",
       "  <thead>\n",
       "    <tr style=\"text-align: right;\">\n",
       "      <th></th>\n",
       "      <th>preusuel</th>\n",
       "      <th>sexe</th>\n",
       "      <th>total</th>\n",
       "    </tr>\n",
       "  </thead>\n",
       "  <tbody>\n",
       "    <tr>\n",
       "      <th>0</th>\n",
       "      <td>MARIE</td>\n",
       "      <td>2</td>\n",
       "      <td>2232238</td>\n",
       "    </tr>\n",
       "    <tr>\n",
       "      <th>1</th>\n",
       "      <td>JEAN</td>\n",
       "      <td>1</td>\n",
       "      <td>1914060</td>\n",
       "    </tr>\n",
       "    <tr>\n",
       "      <th>2</th>\n",
       "      <td>PIERRE</td>\n",
       "      <td>1</td>\n",
       "      <td>891611</td>\n",
       "    </tr>\n",
       "    <tr>\n",
       "      <th>4</th>\n",
       "      <td>MICHEL</td>\n",
       "      <td>1</td>\n",
       "      <td>820353</td>\n",
       "    </tr>\n",
       "    <tr>\n",
       "      <th>6</th>\n",
       "      <td>ANDRÉ</td>\n",
       "      <td>1</td>\n",
       "      <td>711950</td>\n",
       "    </tr>\n",
       "  </tbody>\n",
       "</table>\n",
       "</div>"
      ],
      "text/plain": [
       "  preusuel  sexe    total\n",
       "0    MARIE     2  2232238\n",
       "1     JEAN     1  1914060\n",
       "2   PIERRE     1   891611\n",
       "4   MICHEL     1   820353\n",
       "6    ANDRÉ     1   711950"
      ]
     },
     "execution_count": 29,
     "metadata": {},
     "output_type": "execute_result"
    }
   ],
   "source": [
    "df.head()"
   ]
  },
  {
   "cell_type": "markdown",
   "id": "8c559d42",
   "metadata": {},
   "source": [
    "# Modélisation"
   ]
  },
  {
   "cell_type": "code",
   "execution_count": 30,
   "id": "390bf25f",
   "metadata": {},
   "outputs": [
    {
     "data": {
      "text/plain": [
       "37242"
      ]
     },
     "execution_count": 30,
     "metadata": {},
     "output_type": "execute_result"
    }
   ],
   "source": [
    "len(df)"
   ]
  },
  {
   "cell_type": "code",
   "execution_count": 110,
   "id": "0f12ee80",
   "metadata": {},
   "outputs": [],
   "source": [
    "def encoder(names):\n",
    "    alphabet = \"ABCDEFGHIJKLMNOPQRSTUVWXYZ\"\n",
    "\n",
    "    features = pd.DataFrame()\n",
    "    for letter in alphabet:\n",
    "        features[letter] = (\n",
    "            names.str.upper().str.count(letter).astype(int)\n",
    "        )\n",
    "        \n",
    "    return features"
   ]
  },
  {
   "cell_type": "code",
   "execution_count": 81,
   "id": "458491ea",
   "metadata": {},
   "outputs": [],
   "source": [
    "X = encoder(df[\"preusuel\"])\n",
    "y = (df[\"sexe\"] == 1).astype(int)"
   ]
  },
  {
   "cell_type": "code",
   "execution_count": 82,
   "id": "2777b1eb",
   "metadata": {},
   "outputs": [],
   "source": [
    "from sklearn.model_selection import train_test_split\n",
    "from sklearn.linear_model import LogisticRegression"
   ]
  },
  {
   "cell_type": "code",
   "execution_count": 83,
   "id": "8f42ef0f",
   "metadata": {},
   "outputs": [],
   "source": [
    "X_train, X_test, y_train, y_test = train_test_split(X, y, test_size=0.3)"
   ]
  },
  {
   "cell_type": "code",
   "execution_count": 84,
   "id": "ca4b2f5c",
   "metadata": {},
   "outputs": [],
   "source": [
    "regr = LogisticRegression()"
   ]
  },
  {
   "cell_type": "code",
   "execution_count": 85,
   "id": "d19d36e5",
   "metadata": {},
   "outputs": [
    {
     "data": {
      "text/plain": [
       "LogisticRegression()"
      ]
     },
     "execution_count": 85,
     "metadata": {},
     "output_type": "execute_result"
    }
   ],
   "source": [
    "regr.fit(X_train, y_train)"
   ]
  },
  {
   "cell_type": "code",
   "execution_count": 113,
   "id": "fad07427",
   "metadata": {},
   "outputs": [
    {
     "data": {
      "text/plain": [
       "array([1])"
      ]
     },
     "execution_count": 113,
     "metadata": {},
     "output_type": "execute_result"
    }
   ],
   "source": [
    "regr.predict(encoder(pd.Series([\"christian\"])))"
   ]
  },
  {
   "cell_type": "code",
   "execution_count": 105,
   "id": "8f034dcb",
   "metadata": {},
   "outputs": [
    {
     "data": {
      "text/plain": [
       "0.6684865300277455"
      ]
     },
     "execution_count": 105,
     "metadata": {},
     "output_type": "execute_result"
    }
   ],
   "source": [
    "regr.score(X_test, y_test)"
   ]
  },
  {
   "cell_type": "markdown",
   "id": "3883ffcc",
   "metadata": {},
   "source": [
    "# Export du modèle"
   ]
  },
  {
   "cell_type": "code",
   "execution_count": 116,
   "id": "03908de0",
   "metadata": {},
   "outputs": [],
   "source": [
    "import joblib"
   ]
  },
  {
   "cell_type": "code",
   "execution_count": 117,
   "id": "9bde9dff",
   "metadata": {},
   "outputs": [
    {
     "data": {
      "text/plain": [
       "['model.v0.pickle']"
      ]
     },
     "execution_count": 117,
     "metadata": {},
     "output_type": "execute_result"
    }
   ],
   "source": [
    "joblib.dump(regr, \"model.v0.pickle\")"
   ]
  }
 ],
 "metadata": {
  "kernelspec": {
   "display_name": "Python 3 (ipykernel)",
   "language": "python",
   "name": "python3"
  },
  "language_info": {
   "codemirror_mode": {
    "name": "ipython",
    "version": 3
   },
   "file_extension": ".py",
   "mimetype": "text/x-python",
   "name": "python",
   "nbconvert_exporter": "python",
   "pygments_lexer": "ipython3",
   "version": "3.8.9"
  }
 },
 "nbformat": 4,
 "nbformat_minor": 5
}
