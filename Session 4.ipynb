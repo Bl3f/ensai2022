{
 "cells": [
  {
   "cell_type": "code",
   "execution_count": 1,
   "id": "e0c9762e",
   "metadata": {},
   "outputs": [],
   "source": [
    "import pandas as pd\n",
    "\n",
    "from google.cloud import bigquery\n",
    "from google.oauth2 import service_account"
   ]
  },
  {
   "cell_type": "markdown",
   "id": "e5e592ce",
   "metadata": {},
   "source": [
    "# Chargement des données"
   ]
  },
  {
   "cell_type": "code",
   "execution_count": 2,
   "id": "820d7296",
   "metadata": {},
   "outputs": [],
   "source": [
    "KEY_FILE_PATH = '/Users/blef/Downloads/moonlit-palace-338110-e5f03943d3d1.json'"
   ]
  },
  {
   "cell_type": "code",
   "execution_count": 3,
   "id": "e31c4ccb",
   "metadata": {},
   "outputs": [],
   "source": [
    "credentials = service_account.Credentials.from_service_account_file(\n",
    "    KEY_FILE_PATH, \n",
    "    scopes=[\"https://www.googleapis.com/auth/cloud-platform\"],\n",
    ")"
   ]
  },
  {
   "cell_type": "code",
   "execution_count": 28,
   "id": "f5313bc3",
   "metadata": {},
   "outputs": [],
   "source": [
    "query = \"\"\"\n",
    "    SELECT preusuel, sexe, sum(nombre) as total\n",
    "    FROM ml.prenoms\n",
    "    GROUP BY preusuel, sexe\n",
    "    ORDER BY total DESC\n",
    "\"\"\"\n",
    "\n",
    "df = pd.read_gbq(\n",
    "    query=query,\n",
    "    project_id=credentials.project_id,\n",
    "    credentials=credentials,\n",
    ")\n",
    "df = df[df[\"preusuel\"] != \"_PRENOMS_RARES\"]"
   ]
  },
  {
   "cell_type": "code",
   "execution_count": 29,
   "id": "fd215910",
   "metadata": {},
   "outputs": [
    {
     "data": {
      "text/html": [
       "<div>\n",
       "<style scoped>\n",
       "    .dataframe tbody tr th:only-of-type {\n",
       "        vertical-align: middle;\n",
       "    }\n",
       "\n",
       "    .dataframe tbody tr th {\n",
       "        vertical-align: top;\n",
       "    }\n",
       "\n",
       "    .dataframe thead th {\n",
       "        text-align: right;\n",
       "    }\n",
       "</style>\n",
       "<table border=\"1\" class=\"dataframe\">\n",
       "  <thead>\n",
       "    <tr style=\"text-align: right;\">\n",
       "      <th></th>\n",
       "      <th>preusuel</th>\n",
       "      <th>sexe</th>\n",
       "      <th>total</th>\n",
       "    </tr>\n",
       "  </thead>\n",
       "  <tbody>\n",
       "    <tr>\n",
       "      <th>0</th>\n",
       "      <td>MARIE</td>\n",
       "      <td>2</td>\n",
       "      <td>2232238</td>\n",
       "    </tr>\n",
       "    <tr>\n",
       "      <th>1</th>\n",
       "      <td>JEAN</td>\n",
       "      <td>1</td>\n",
       "      <td>1914060</td>\n",
       "    </tr>\n",
       "    <tr>\n",
       "      <th>2</th>\n",
       "      <td>PIERRE</td>\n",
       "      <td>1</td>\n",
       "      <td>891611</td>\n",
       "    </tr>\n",
       "    <tr>\n",
       "      <th>4</th>\n",
       "      <td>MICHEL</td>\n",
       "      <td>1</td>\n",
       "      <td>820353</td>\n",
       "    </tr>\n",
       "    <tr>\n",
       "      <th>6</th>\n",
       "      <td>ANDRÉ</td>\n",
       "      <td>1</td>\n",
       "      <td>711950</td>\n",
       "    </tr>\n",
       "  </tbody>\n",
       "</table>\n",
       "</div>"
      ],
      "text/plain": [
       "  preusuel  sexe    total\n",
       "0    MARIE     2  2232238\n",
       "1     JEAN     1  1914060\n",
       "2   PIERRE     1   891611\n",
       "4   MICHEL     1   820353\n",
       "6    ANDRÉ     1   711950"
      ]
     },
     "execution_count": 29,
     "metadata": {},
     "output_type": "execute_result"
    }
   ],
   "source": [
    "df.head()"
   ]
  },
  {
   "cell_type": "markdown",
   "id": "b0159df2",
   "metadata": {},
   "source": [
    "# Modélisation"
   ]
  },
  {
   "cell_type": "code",
   "execution_count": 30,
   "id": "42a28c87",
   "metadata": {},
   "outputs": [
    {
     "data": {
      "text/plain": [
       "37242"
      ]
     },
     "execution_count": 30,
     "metadata": {},
     "output_type": "execute_result"
    }
   ],
   "source": [
    "len(df)"
   ]
  },
  {
   "cell_type": "code",
   "execution_count": 186,
   "id": "86fa737c",
   "metadata": {},
   "outputs": [],
   "source": [
    "from unidecode import unidecode"
   ]
  },
  {
   "cell_type": "code",
   "execution_count": 187,
   "id": "50bdce85",
   "metadata": {},
   "outputs": [],
   "source": [
    "def encoder(names):\n",
    "    alphabet = \"ABCDEFGHIJKLMNOPQRSTUVWXYZ-\"\n",
    "\n",
    "    features = pd.DataFrame()\n",
    "    for letter in alphabet:\n",
    "        features[letter] = (\n",
    "            names.apply(unidecode).str.upper().str.count(letter).astype(int)\n",
    "        )\n",
    "        \n",
    "    return features"
   ]
  },
  {
   "cell_type": "code",
   "execution_count": 188,
   "id": "648a900c",
   "metadata": {},
   "outputs": [],
   "source": [
    "X = encoder(df[\"preusuel\"])\n",
    "y = (df[\"sexe\"] == 1).astype(int)"
   ]
  },
  {
   "cell_type": "code",
   "execution_count": 189,
   "id": "e1595578",
   "metadata": {},
   "outputs": [],
   "source": [
    "from sklearn.model_selection import train_test_split\n",
    "from sklearn.linear_model import LogisticRegression"
   ]
  },
  {
   "cell_type": "code",
   "execution_count": 190,
   "id": "f95163e1",
   "metadata": {},
   "outputs": [],
   "source": [
    "X_train, X_test, y_train, y_test = train_test_split(\n",
    "    X, y, test_size=0.3, random_state=42, shuffle=True\n",
    ")"
   ]
  },
  {
   "cell_type": "code",
   "execution_count": 191,
   "id": "7b2b675f",
   "metadata": {},
   "outputs": [],
   "source": [
    "regr = LogisticRegression()"
   ]
  },
  {
   "cell_type": "code",
   "execution_count": 192,
   "id": "f797e7ae",
   "metadata": {},
   "outputs": [
    {
     "data": {
      "text/plain": [
       "LogisticRegression()"
      ]
     },
     "execution_count": 192,
     "metadata": {},
     "output_type": "execute_result"
    }
   ],
   "source": [
    "regr.fit(X_train, y_train)"
   ]
  },
  {
   "cell_type": "code",
   "execution_count": 193,
   "id": "aeeb059b",
   "metadata": {},
   "outputs": [
    {
     "data": {
      "text/plain": [
       "array([0])"
      ]
     },
     "execution_count": 193,
     "metadata": {},
     "output_type": "execute_result"
    }
   ],
   "source": [
    "regr.predict(encoder(pd.Series([\"christian\"])))"
   ]
  },
  {
   "cell_type": "code",
   "execution_count": 194,
   "id": "f0de6317",
   "metadata": {},
   "outputs": [
    {
     "data": {
      "text/plain": [
       "0.6814642441600286"
      ]
     },
     "execution_count": 194,
     "metadata": {},
     "output_type": "execute_result"
    }
   ],
   "source": [
    "regr.score(X_test, y_test)"
   ]
  },
  {
   "cell_type": "markdown",
   "id": "3aa28a1d",
   "metadata": {},
   "source": [
    "# Export du modèle"
   ]
  },
  {
   "cell_type": "code",
   "execution_count": 195,
   "id": "2cf35363",
   "metadata": {},
   "outputs": [],
   "source": [
    "import joblib"
   ]
  },
  {
   "cell_type": "code",
   "execution_count": 196,
   "id": "7202d0de",
   "metadata": {},
   "outputs": [
    {
     "data": {
      "text/plain": [
       "['model.v1.pickle']"
      ]
     },
     "execution_count": 196,
     "metadata": {},
     "output_type": "execute_result"
    }
   ],
   "source": [
    "joblib.dump(regr, \"model.v1.pickle\")"
   ]
  },
  {
   "cell_type": "code",
   "execution_count": null,
   "id": "e81e1a1f",
   "metadata": {},
   "outputs": [],
   "source": []
  }
 ],
 "metadata": {
  "kernelspec": {
   "display_name": "Python 3 (ipykernel)",
   "language": "python",
   "name": "python3"
  },
  "language_info": {
   "codemirror_mode": {
    "name": "ipython",
    "version": 3
   },
   "file_extension": ".py",
   "mimetype": "text/x-python",
   "name": "python",
   "nbconvert_exporter": "python",
   "pygments_lexer": "ipython3",
   "version": "3.8.9"
  }
 },
 "nbformat": 4,
 "nbformat_minor": 5
}
